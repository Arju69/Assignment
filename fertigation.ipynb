{
 "cells": [
  {
   "cell_type": "code",
   "execution_count": 23,
   "id": "f31086ab-5332-418c-a7ae-07d0bdca27ac",
   "metadata": {},
   "outputs": [],
   "source": [
    "import pandas as pd\n",
    "import matplotlib.pyplot as plt"
   ]
  },
  {
   "cell_type": "code",
   "execution_count": 24,
   "id": "40b44b0d-9195-4936-a7ed-93163d2d48eb",
   "metadata": {},
   "outputs": [],
   "source": [
    "df = pd.read_csv('ds.csv')\n",
    "df = df.sort_values(by = 'dWfr')"
   ]
  },
  {
   "cell_type": "code",
   "execution_count": 25,
   "id": "e7e7028a-5392-4be5-bda7-6d2b52003bcf",
   "metadata": {},
   "outputs": [
    {
     "data": {
      "text/html": [
       "<div>\n",
       "<style scoped>\n",
       "    .dataframe tbody tr th:only-of-type {\n",
       "        vertical-align: middle;\n",
       "    }\n",
       "\n",
       "    .dataframe tbody tr th {\n",
       "        vertical-align: top;\n",
       "    }\n",
       "\n",
       "    .dataframe thead th {\n",
       "        text-align: right;\n",
       "    }\n",
       "</style>\n",
       "<table border=\"1\" class=\"dataframe\">\n",
       "  <thead>\n",
       "    <tr style=\"text-align: right;\">\n",
       "      <th></th>\n",
       "      <th>water_flow_rate</th>\n",
       "      <th>N</th>\n",
       "      <th>Nua</th>\n",
       "      <th>Weight of liq N</th>\n",
       "      <th>P</th>\n",
       "      <th>K</th>\n",
       "      <th>Nc</th>\n",
       "      <th>Ncf</th>\n",
       "      <th>Area</th>\n",
       "      <th>Need_of_fertilizer</th>\n",
       "      <th>dNc</th>\n",
       "      <th>time_injection</th>\n",
       "      <th>dWfr</th>\n",
       "    </tr>\n",
       "  </thead>\n",
       "  <tbody>\n",
       "    <tr>\n",
       "      <th>641</th>\n",
       "      <td>3</td>\n",
       "      <td>0.639978</td>\n",
       "      <td>0.907780</td>\n",
       "      <td>0.963307</td>\n",
       "      <td>0.009123</td>\n",
       "      <td>0.051497</td>\n",
       "      <td>0.095261</td>\n",
       "      <td>0.067858</td>\n",
       "      <td>99.674482</td>\n",
       "      <td>97.653961</td>\n",
       "      <td>0.960415</td>\n",
       "      <td>56.297828</td>\n",
       "      <td>-1.999822</td>\n",
       "    </tr>\n",
       "    <tr>\n",
       "      <th>151</th>\n",
       "      <td>7</td>\n",
       "      <td>0.444516</td>\n",
       "      <td>0.786123</td>\n",
       "      <td>0.850789</td>\n",
       "      <td>0.606008</td>\n",
       "      <td>0.125626</td>\n",
       "      <td>0.634565</td>\n",
       "      <td>0.792518</td>\n",
       "      <td>86.510394</td>\n",
       "      <td>60.683116</td>\n",
       "      <td>0.515676</td>\n",
       "      <td>56.006964</td>\n",
       "      <td>-1.998176</td>\n",
       "    </tr>\n",
       "    <tr>\n",
       "      <th>1087</th>\n",
       "      <td>4</td>\n",
       "      <td>0.392980</td>\n",
       "      <td>0.060046</td>\n",
       "      <td>0.620164</td>\n",
       "      <td>0.917426</td>\n",
       "      <td>0.293190</td>\n",
       "      <td>0.819709</td>\n",
       "      <td>0.107326</td>\n",
       "      <td>51.674184</td>\n",
       "      <td>76.713793</td>\n",
       "      <td>0.452001</td>\n",
       "      <td>85.522195</td>\n",
       "      <td>-1.998102</td>\n",
       "    </tr>\n",
       "    <tr>\n",
       "      <th>1096</th>\n",
       "      <td>5</td>\n",
       "      <td>0.765977</td>\n",
       "      <td>0.789754</td>\n",
       "      <td>0.212355</td>\n",
       "      <td>0.938828</td>\n",
       "      <td>0.476159</td>\n",
       "      <td>0.983364</td>\n",
       "      <td>0.514458</td>\n",
       "      <td>62.444721</td>\n",
       "      <td>52.558975</td>\n",
       "      <td>0.000862</td>\n",
       "      <td>86.148113</td>\n",
       "      <td>-1.991949</td>\n",
       "    </tr>\n",
       "    <tr>\n",
       "      <th>2753</th>\n",
       "      <td>5</td>\n",
       "      <td>0.436400</td>\n",
       "      <td>0.403753</td>\n",
       "      <td>0.366725</td>\n",
       "      <td>0.692893</td>\n",
       "      <td>0.261643</td>\n",
       "      <td>0.754655</td>\n",
       "      <td>0.483663</td>\n",
       "      <td>57.522993</td>\n",
       "      <td>62.478964</td>\n",
       "      <td>0.227993</td>\n",
       "      <td>54.616861</td>\n",
       "      <td>-1.991653</td>\n",
       "    </tr>\n",
       "  </tbody>\n",
       "</table>\n",
       "</div>"
      ],
      "text/plain": [
       "      water_flow_rate         N       Nua  Weight of liq N         P  \\\n",
       "641                 3  0.639978  0.907780         0.963307  0.009123   \n",
       "151                 7  0.444516  0.786123         0.850789  0.606008   \n",
       "1087                4  0.392980  0.060046         0.620164  0.917426   \n",
       "1096                5  0.765977  0.789754         0.212355  0.938828   \n",
       "2753                5  0.436400  0.403753         0.366725  0.692893   \n",
       "\n",
       "             K        Nc       Ncf       Area  Need_of_fertilizer       dNc  \\\n",
       "641   0.051497  0.095261  0.067858  99.674482           97.653961  0.960415   \n",
       "151   0.125626  0.634565  0.792518  86.510394           60.683116  0.515676   \n",
       "1087  0.293190  0.819709  0.107326  51.674184           76.713793  0.452001   \n",
       "1096  0.476159  0.983364  0.514458  62.444721           52.558975  0.000862   \n",
       "2753  0.261643  0.754655  0.483663  57.522993           62.478964  0.227993   \n",
       "\n",
       "      time_injection      dWfr  \n",
       "641        56.297828 -1.999822  \n",
       "151        56.006964 -1.998176  \n",
       "1087       85.522195 -1.998102  \n",
       "1096       86.148113 -1.991949  \n",
       "2753       54.616861 -1.991653  "
      ]
     },
     "execution_count": 25,
     "metadata": {},
     "output_type": "execute_result"
    }
   ],
   "source": [
    "df.head()"
   ]
  },
  {
   "cell_type": "code",
   "execution_count": 26,
   "id": "5e001330-65bc-4fca-ba62-84c934cf7f3e",
   "metadata": {},
   "outputs": [],
   "source": [
    "df[\"dTi\"] = - ( df[\"Need_of_fertilizer\"] * df[\"Nua\"] ) / (df[\"Weight of liq N\"]*df[\"Ncf\"]*df[\"water_flow_rate\"]**2)*df[\"dWfr\"]"
   ]
  },
  {
   "cell_type": "code",
   "execution_count": 27,
   "id": "d4015308",
   "metadata": {},
   "outputs": [],
   "source": [
    "df[\"Nd\"] = ( df[\"Nc\"]  ) / (df[\"Ncf\"])"
   ]
  },
  {
   "cell_type": "code",
   "execution_count": 28,
   "id": "89380163",
   "metadata": {},
   "outputs": [],
   "source": [
    "df[\"dTi\"] = - ( df[\"Need_of_fertilizer\"] * df[\"Nua\"] * df[\"Nd\"]) / (df[\"Weight of liq N\"]*df[\"Ncf\"]*df[\"water_flow_rate\"]*df[\"Nc\"]**2)*df[\"dNc\"]"
   ]
  },
  {
   "cell_type": "code",
   "execution_count": 29,
   "id": "ba4493e3-3d26-42b6-9fe4-af4b24ccffd0",
   "metadata": {},
   "outputs": [
    {
     "data": {
      "text/html": [
       "<div>\n",
       "<style scoped>\n",
       "    .dataframe tbody tr th:only-of-type {\n",
       "        vertical-align: middle;\n",
       "    }\n",
       "\n",
       "    .dataframe tbody tr th {\n",
       "        vertical-align: top;\n",
       "    }\n",
       "\n",
       "    .dataframe thead th {\n",
       "        text-align: right;\n",
       "    }\n",
       "</style>\n",
       "<table border=\"1\" class=\"dataframe\">\n",
       "  <thead>\n",
       "    <tr style=\"text-align: right;\">\n",
       "      <th></th>\n",
       "      <th>water_flow_rate</th>\n",
       "      <th>N</th>\n",
       "      <th>Nua</th>\n",
       "      <th>Weight of liq N</th>\n",
       "      <th>P</th>\n",
       "      <th>K</th>\n",
       "      <th>Nc</th>\n",
       "      <th>Ncf</th>\n",
       "      <th>Area</th>\n",
       "      <th>Need_of_fertilizer</th>\n",
       "      <th>dNc</th>\n",
       "      <th>time_injection</th>\n",
       "      <th>dWfr</th>\n",
       "      <th>dTi</th>\n",
       "      <th>Nd</th>\n",
       "    </tr>\n",
       "  </thead>\n",
       "  <tbody>\n",
       "    <tr>\n",
       "      <th>641</th>\n",
       "      <td>3</td>\n",
       "      <td>0.639978</td>\n",
       "      <td>0.907780</td>\n",
       "      <td>0.963307</td>\n",
       "      <td>0.009123</td>\n",
       "      <td>0.051497</td>\n",
       "      <td>0.095261</td>\n",
       "      <td>0.067858</td>\n",
       "      <td>99.674482</td>\n",
       "      <td>97.653961</td>\n",
       "      <td>0.960415</td>\n",
       "      <td>56.297828</td>\n",
       "      <td>-1.999822</td>\n",
       "      <td>-67161.922441</td>\n",
       "      <td>1.403815</td>\n",
       "    </tr>\n",
       "    <tr>\n",
       "      <th>151</th>\n",
       "      <td>7</td>\n",
       "      <td>0.444516</td>\n",
       "      <td>0.786123</td>\n",
       "      <td>0.850789</td>\n",
       "      <td>0.606008</td>\n",
       "      <td>0.125626</td>\n",
       "      <td>0.634565</td>\n",
       "      <td>0.792518</td>\n",
       "      <td>86.510394</td>\n",
       "      <td>60.683116</td>\n",
       "      <td>0.515676</td>\n",
       "      <td>56.006964</td>\n",
       "      <td>-1.998176</td>\n",
       "      <td>-10.363854</td>\n",
       "      <td>0.800694</td>\n",
       "    </tr>\n",
       "    <tr>\n",
       "      <th>1087</th>\n",
       "      <td>4</td>\n",
       "      <td>0.392980</td>\n",
       "      <td>0.060046</td>\n",
       "      <td>0.620164</td>\n",
       "      <td>0.917426</td>\n",
       "      <td>0.293190</td>\n",
       "      <td>0.819709</td>\n",
       "      <td>0.107326</td>\n",
       "      <td>51.674184</td>\n",
       "      <td>76.713793</td>\n",
       "      <td>0.452001</td>\n",
       "      <td>85.522195</td>\n",
       "      <td>-1.998102</td>\n",
       "      <td>-88.892754</td>\n",
       "      <td>7.637593</td>\n",
       "    </tr>\n",
       "    <tr>\n",
       "      <th>1096</th>\n",
       "      <td>5</td>\n",
       "      <td>0.765977</td>\n",
       "      <td>0.789754</td>\n",
       "      <td>0.212355</td>\n",
       "      <td>0.938828</td>\n",
       "      <td>0.476159</td>\n",
       "      <td>0.983364</td>\n",
       "      <td>0.514458</td>\n",
       "      <td>62.444721</td>\n",
       "      <td>52.558975</td>\n",
       "      <td>0.000862</td>\n",
       "      <td>86.148113</td>\n",
       "      <td>-1.991949</td>\n",
       "      <td>-0.129427</td>\n",
       "      <td>1.911458</td>\n",
       "    </tr>\n",
       "    <tr>\n",
       "      <th>2753</th>\n",
       "      <td>5</td>\n",
       "      <td>0.436400</td>\n",
       "      <td>0.403753</td>\n",
       "      <td>0.366725</td>\n",
       "      <td>0.692893</td>\n",
       "      <td>0.261643</td>\n",
       "      <td>0.754655</td>\n",
       "      <td>0.483663</td>\n",
       "      <td>57.522993</td>\n",
       "      <td>62.478964</td>\n",
       "      <td>0.227993</td>\n",
       "      <td>54.616861</td>\n",
       "      <td>-1.991653</td>\n",
       "      <td>-17.767542</td>\n",
       "      <td>1.560292</td>\n",
       "    </tr>\n",
       "  </tbody>\n",
       "</table>\n",
       "</div>"
      ],
      "text/plain": [
       "      water_flow_rate         N       Nua  Weight of liq N         P  \\\n",
       "641                 3  0.639978  0.907780         0.963307  0.009123   \n",
       "151                 7  0.444516  0.786123         0.850789  0.606008   \n",
       "1087                4  0.392980  0.060046         0.620164  0.917426   \n",
       "1096                5  0.765977  0.789754         0.212355  0.938828   \n",
       "2753                5  0.436400  0.403753         0.366725  0.692893   \n",
       "\n",
       "             K        Nc       Ncf       Area  Need_of_fertilizer       dNc  \\\n",
       "641   0.051497  0.095261  0.067858  99.674482           97.653961  0.960415   \n",
       "151   0.125626  0.634565  0.792518  86.510394           60.683116  0.515676   \n",
       "1087  0.293190  0.819709  0.107326  51.674184           76.713793  0.452001   \n",
       "1096  0.476159  0.983364  0.514458  62.444721           52.558975  0.000862   \n",
       "2753  0.261643  0.754655  0.483663  57.522993           62.478964  0.227993   \n",
       "\n",
       "      time_injection      dWfr           dTi        Nd  \n",
       "641        56.297828 -1.999822 -67161.922441  1.403815  \n",
       "151        56.006964 -1.998176    -10.363854  0.800694  \n",
       "1087       85.522195 -1.998102    -88.892754  7.637593  \n",
       "1096       86.148113 -1.991949     -0.129427  1.911458  \n",
       "2753       54.616861 -1.991653    -17.767542  1.560292  "
      ]
     },
     "execution_count": 29,
     "metadata": {},
     "output_type": "execute_result"
    }
   ],
   "source": [
    "df.head()"
   ]
  },
  {
   "cell_type": "code",
   "execution_count": 30,
   "id": "21d21a13",
   "metadata": {},
   "outputs": [
    {
     "data": {
      "text/plain": [
       "<AxesSubplot:xlabel='dWfr', ylabel='dTi'>"
      ]
     },
     "execution_count": 30,
     "metadata": {},
     "output_type": "execute_result"
    },
    {
     "data": {
      "image/png": "[encoded data removed]",
      "text/plain": [
       "<Figure size 432x288 with 1 Axes>"
      ]
     },
     "metadata": {
      "needs_background": "light"
     },
     "output_type": "display_data"
    }
   ],
   "source": [
    "df.plot(x=\"dWfr\", y=\"dTi\", kind =\"scatter\")"
   ]
  },
  {
   "cell_type": "code",
   "execution_count": 31,
   "id": "30ab3ad2-1006-4ef3-9f4b-e6b0bcc69721",
   "metadata": {},
   "outputs": [
    {
     "data": {
      "text/plain": [
       "<AxesSubplot:xlabel='dNc', ylabel='dTi'>"
      ]
     },
     "execution_count": 31,
     "metadata": {},
     "output_type": "execute_result"
    },
    {
     "data": {
      "image/png": "[encoded data removed]",
      "text/plain": [
       "<Figure size 432x288 with 1 Axes>"
      ]
     },
     "metadata": {
      "needs_background": "light"
     },
     "output_type": "display_data"
    }
   ],
   "source": [
    "df.plot(x=\"dNc\", y=\"dTi\", kind =\"scatter\")"
   ]
  },
  {
   "cell_type": "code",
   "execution_count": null,
   "id": "f1d3f54e-ba86-4228-9dc2-9d7e7f67dd53",
   "metadata": {},
   "outputs": [],
   "source": []
  },
  {
   "cell_type": "code",
   "execution_count": null,
   "id": "9bc5a633",
   "metadata": {},
   "outputs": [],
   "source": []
  }
 ],
 "metadata": {
  "kernelspec": {
   "display_name": "Python 3 (ipykernel)",
   "language": "python",
   "name": "python3"
  },
  "language_info": {
   "codemirror_mode": {
    "name": "ipython",
    "version": 3
   },
   "file_extension": ".py",
   "mimetype": "text/x-python",
   "name": "python",
   "nbconvert_exporter": "python",
   "pygments_lexer": "ipython3",
   "version": "3.9.12"
  }
 },
 "nbformat": 4,
 "nbformat_minor": 5
}
